{
 "cells": [
  {
   "cell_type": "markdown",
   "metadata": {},
   "source": [
    "# Machine learning applied to predicting stocks performance\n",
    "## Introduction\n",
    "The goal with this project is to use machine learning models to attempt to predict which factors most influence the performance of a stock. Since the stock market is a highly complex system (and chaotic) by nature, I won't try to make regression predictions (such as individual returns for each stock), but rather try and predict which stocks can be classified as \"Overperformers\", i.e., which stocks are able to beat the historical market average, which is [around 10% for the past 50 years](https://www.investopedia.com/ask/answers/042415/what-average-annual-return-sp-500.asp). This project is, therefore, a classification problem, not regression.\n",
    "\n",
    "## Background\n",
    "Investing in the stock market can be roughly split into two broad categories: active and passive investing. Passive investing can be seen as taking out the guesswork and extra work involved in picking stocks and, instead, select a mutual fund or index fund to invest in. This means selecting a basket of stocks as a whole, which reduces risk and time spent investigating each company.  \n",
    "\n",
    "Active investing means selecting individual financial instruments (stocks, bonds, mutual/hedge funds, derivatives, etc.). For simplification, I will only consider stocks for this analysis, and only stocks that belong to the Russell 1000 index (meaning, the 1000 American companies with the most value in the market (market capitalization))."
   ]
  },
  {
   "cell_type": "code",
   "execution_count": 1,
   "metadata": {},
   "outputs": [],
   "source": [
    "# importing libraries\n",
    "import pandas as pd\n",
    "import numpy as np\n",
    "import requests\n",
    "import datetime as dt\n",
    "from yahooquery import Ticker\n",
    "import matplotlib.pyplot as plt\n",
    "\n",
    "# set display options\n",
    "pd.options.display.max_columns = 100\n",
    "pd.options.display.max_rows = 30"
   ]
  },
  {
   "cell_type": "markdown",
   "metadata": {},
   "source": [
    "## Data collection: stock fundamental information\n",
    "Within the active investing category, there are two main investing styles: technical and fundamental analysis. Technical analysis is a trading discipline employed to evaluate investments and identify trading opportunities by analyzing statistical trends gathered from trading activity, such as price movement, volume, and price trends, among others. \n",
    "For my analysis, I will employ fundamental analysis, with metrics that attempt to measure company performance (such as earnings), company financial health (such as the amount of debt compared to the amount of equity), and several types of stock yields, such as dividends, buyback, and the addition of both (shareholder yield)."
   ]
  },
  {
   "cell_type": "code",
   "execution_count": 5,
   "metadata": {},
   "outputs": [],
   "source": [
    "# Function to collect the list of Russell 1000 tickers\n",
    "def get_russell_1000_tickers():\n",
    "    url = \"https://en.wikipedia.org/wiki/Russell_1000_Index\"\n",
    "    html = requests.get(url).text\n",
    "    # Adjust the index depending on the table structure\n",
    "    russell_1000_data = pd.read_html(html)[2]\n",
    "    russell_1000_data['Ticker'] = russell_1000_data['Ticker'].str.replace(\n",
    "        \".\", \"-\")\n",
    "    tickers = russell_1000_data['Ticker'].tolist()\n",
    "    return tickers\n",
    "\n",
    "\n",
    "# Function to get the financial data for each stock\n",
    "def get_financial_data(tickers):\n",
    "    data = {}\n",
    "    for ticker in tickers:\n",
    "        stock = Ticker(ticker)\n",
    "\n",
    "        try:\n",
    "            # gather statements\n",
    "            income_statement = stock.income_statement(\n",
    "                frequency='a', trailing=True\n",
    "            )\n",
    "            # only select year 2022\n",
    "            income_statement = income_statement[\n",
    "                income_statement['asOfDate'].dt.year == 2022\n",
    "            ]\n",
    "\n",
    "            balance_sheet = stock.balance_sheet(\n",
    "                frequency='q', trailing=False\n",
    "            )\n",
    "\n",
    "            '''\n",
    "            balance sheet doesn't require filtering for only year 2022\n",
    "            because I am using quarterly data (which is more accurate than annual data) because assets shouldn't be evaluated on a yearly basis, but rather on the latest available info\n",
    "            '''\n",
    "\n",
    "            # only select year 2022\n",
    "            cash_flow = stock.cash_flow(\n",
    "                frequency='a', trailing=True\n",
    "            )\n",
    "\n",
    "            cash_flow = cash_flow[\n",
    "                cash_flow['asOfDate'].dt.year == 2022\n",
    "            ]\n",
    "\n",
    "            market_cap = stock.valuation_measures['MarketCap'].dropna().iloc[0]\n",
    "            price_prev = stock.history(period='1y', interval='1wk')['close'][0]\n",
    "            # since the period is 1 year, the first row will be last year, and the last will be current year\n",
    "            price_curr = stock.history(period='1y', interval='1wk')[\n",
    "                'close'][-1]\n",
    "            revenue = income_statement['TotalRevenue'][0]\n",
    "            fcf = cash_flow['FreeCashFlow'][0]\n",
    "            net_income = income_statement['NetIncome'][0]\n",
    "            equity = balance_sheet['StockholdersEquity'].dropna().iloc[0]\n",
    "            liabilities = balance_sheet['TotalLiabilitiesNetMinorityInterest'].dropna(\n",
    "            ).iloc[0]\n",
    "            total_debt = balance_sheet['TotalDebt'].dropna().iloc[0]\n",
    "\n",
    "            # Step 3: Calculate the valuation metrics\n",
    "            try:\n",
    "                cash_and_equivalents = balance_sheet['CashCashEquivalentsAndShortTermInvestments'].dropna(\n",
    "                ).iloc[0]\n",
    "\n",
    "                ev = market_cap + total_debt - cash_and_equivalents\n",
    "\n",
    "                op_income = income_statement['OperatingIncome'][0]\n",
    "\n",
    "            except:\n",
    "                cash_and_equivalents = balance_sheet['CashAndCashEquivalents'].dropna(\n",
    "                ).iloc[0]\n",
    "\n",
    "                ev = market_cap + total_debt - cash_and_equivalents\n",
    "\n",
    "                op_income = income_statement['PretaxIncome'][0]\n",
    "\n",
    "            ebit_to_ev = op_income / ev\n",
    "\n",
    "            fcf_to_ev = fcf / ev\n",
    "\n",
    "            sales_to_ev = revenue / ev\n",
    "\n",
    "            e_to_ev = net_income / ev\n",
    "\n",
    "            graham_test = (0 < (market_cap / net_income) <=\n",
    "                           10) & ((equity >= liabilities))\n",
    "\n",
    "            try:\n",
    "                dividends_paid = cash_flow['CashDividendsPaid'][0] * -1\n",
    "                dividend_yield = dividends_paid / market_cap * 100\n",
    "\n",
    "            except:\n",
    "                dividend_yield = 0\n",
    "\n",
    "            try:\n",
    "                buyback = cash_flow[\"RepurchaseOfCapitalStock\"][0] * -1\n",
    "                buyback_yield = buyback * 100 / market_cap\n",
    "\n",
    "            except:\n",
    "                buyback_yield = 0\n",
    "\n",
    "            data[ticker] = {\n",
    "                \"EBIT/EV\": ebit_to_ev,\n",
    "                \"FCF/EV\": fcf_to_ev,\n",
    "                \"Sales/EV\": sales_to_ev,\n",
    "                \"E/P\": net_income / market_cap,\n",
    "                \"E/EV\": net_income / ev,\n",
    "                \"Debt/Equity\": total_debt / equity,\n",
    "                \"Passes Graham test\": graham_test,\n",
    "                \"Enterprise Value (M)\": round((ev / 1000000), 3),\n",
    "                \"Market cap (M)\": round((market_cap / 1000000), 3),\n",
    "                \"Net income (M)\": round((net_income / 1000000), 3),\n",
    "                \"Operating income (M)\": round((op_income / 1000000), 3),\n",
    "                \"Dividend Yield (%)\": dividend_yield,\n",
    "                \"Shareholder Yield (%)\": dividend_yield + buyback_yield,\n",
    "                \"Buyback Yield (%)\": buyback_yield,\n",
    "                \"price_prev\": price_prev,\n",
    "                \"price_curr\": price_curr\n",
    "            }\n",
    "\n",
    "        except Exception as e:\n",
    "            print(f\"Error processing {ticker}: {e}\")\n",
    "    return data\n",
    "\n",
    "# Function to classify stocks based on performance, compared to market returns\n",
    "# over 10% -> overperformer\n",
    "# less than or equal to 10% -> underperformer\n",
    "\n",
    "\n",
    "def performance(df):\n",
    "    df.loc[(df['price_curr'] / df['price_prev'] > 1.1), 'overperformer'] = 1\n",
    "    df.loc[(df['price_curr'] / df['price_prev'] <= 1.1), 'overperformer'] = 0\n",
    "    df.drop(columns=['price_prev', 'price_curr'], inplace=True)\n",
    "    return df"
   ]
  },
  {
   "cell_type": "code",
   "execution_count": 6,
   "metadata": {},
   "outputs": [
    {
     "name": "stdout",
     "output_type": "stream",
     "text": [
      "Error processing AM: 'CashAndCashEquivalents'\n",
      "Error processing AR: 'CashAndCashEquivalents'\n",
      "Error processing AZPN: index 0 is out of bounds for axis 0 with size 0\n",
      "Error processing GNTX: 'TotalDebt'\n",
      "Error processing GMED: 'TotalDebt'\n",
      "Error processing ISRG: 'TotalDebt'\n",
      "Error processing KD: index 0 is out of bounds for axis 0 with size 0\n",
      "Error processing LLYVA: string indices must be integers, not 'str'\n",
      "Error processing LLYVK: string indices must be integers, not 'str'\n",
      "Error processing MPWR: 'TotalDebt'\n",
      "Error processing MNST: 'TotalDebt'\n"
     ]
    },
    {
     "name": "stderr",
     "output_type": "stream",
     "text": [
      "/var/folders/7y/kdr8r5r10wv7bv7l86hns69m0000gn/T/ipykernel_2356/2691830308.py:101: RuntimeWarning: divide by zero encountered in scalar divide\n",
      "  \"Debt/Equity\": total_debt / equity,\n"
     ]
    },
    {
     "name": "stdout",
     "output_type": "stream",
     "text": [
      "Error processing UAA: index 0 is out of bounds for axis 0 with size 0\n",
      "Error processing UA: index 0 is out of bounds for axis 0 with size 0\n"
     ]
    }
   ],
   "source": [
    "# gathering the data\n",
    "tickers = get_russell_1000_tickers()\n",
    "data = get_financial_data(tickers)\n",
    "df = pd.DataFrame(data).T\n",
    "\n",
    "# Add target column ('overperformer')\n",
    "df = performance(df)"
   ]
  },
  {
   "cell_type": "code",
   "execution_count": 7,
   "metadata": {},
   "outputs": [],
   "source": [
    "# export\n",
    "df.reset_index(names='Ticker', inplace=True)\n",
    "df.to_csv(\"stocks_data.csv\", index=False) # exporting the data is useful to avoid re-running the API calls"
   ]
  },
  {
   "cell_type": "code",
   "execution_count": 16,
   "metadata": {},
   "outputs": [],
   "source": [
    "# reading the data without running the API calls\n",
    "# df = pd.read_csv(\"stocks_data.csv\")"
   ]
  },
  {
   "cell_type": "markdown",
   "metadata": {},
   "source": [
    "## Preprocessing the data\n",
    "To be able to predict which stocks are overperformers, the data has to be pre-processed first, before considering feature engineering or model selection."
   ]
  },
  {
   "cell_type": "markdown",
   "metadata": {},
   "source": [
    "### Converting columns to numbers\n",
    "Since most machine learning models use mathematical functions, columns must be converted to numbers first."
   ]
  },
  {
   "cell_type": "code",
   "execution_count": 18,
   "metadata": {},
   "outputs": [],
   "source": [
    "# converting boolean classification into binary values\n",
    "df['Passes Graham test'] = df['Passes Graham test'].astype(int)\n",
    "\n",
    "# converting string columns into numerical\n",
    "for col in df.drop(columns=['Ticker']).columns:\n",
    "    df[col] = pd.to_numeric(df[col])"
   ]
  },
  {
   "cell_type": "markdown",
   "metadata": {},
   "source": [
    "### Dealing with missing data"
   ]
  },
  {
   "cell_type": "code",
   "execution_count": 19,
   "metadata": {},
   "outputs": [
    {
     "data": {
      "text/plain": [
       "Ticker                    0\n",
       "EBIT/EV                   0\n",
       "FCF/EV                    0\n",
       "Sales/EV                  0\n",
       "E/P                       0\n",
       "E/EV                      0\n",
       "Debt/Equity               0\n",
       "Passes Graham test        0\n",
       "Enterprise Value (M)      0\n",
       "Market cap (M)            0\n",
       "Net income (M)            0\n",
       "Operating income (M)      0\n",
       "Dividend Yield (%)       30\n",
       "Shareholder Yield (%)    92\n",
       "Buyback Yield (%)        65\n",
       "overperformer             0\n",
       "dtype: int64"
      ]
     },
     "execution_count": 19,
     "metadata": {},
     "output_type": "execute_result"
    }
   ],
   "source": [
    "# Checking for empty values\n",
    "df.isnull().sum()"
   ]
  },
  {
   "cell_type": "markdown",
   "metadata": {},
   "source": [
    "Only 3 columns contain empty values. Considering 92 rows (Shareholder Yield (%)) is about 9% of the dataset, I will fill these values with the mean to avoid losing potentially important data."
   ]
  },
  {
   "cell_type": "code",
   "execution_count": 20,
   "metadata": {},
   "outputs": [],
   "source": [
    "# Filling empty values\n",
    "df['Dividend Yield (%)'].fillna(df['Dividend Yield (%)'].mean(), inplace=True)\n",
    "df['Shareholder Yield (%)'].fillna(\n",
    "    df['Shareholder Yield (%)'].mean(), inplace=True\n",
    ")\n",
    "df['Buyback Yield (%)'].fillna(df['Buyback Yield (%)'].mean(), inplace=True)"
   ]
  },
  {
   "cell_type": "markdown",
   "metadata": {},
   "source": [
    "## Scaling the data\n",
    "Since some classification algorithms are distance-based, scaling the data is important to avoid having one feature dominating another. \n",
    "It also helps gradient descent converge faster if all features are on the same scale.\n",
    "\n",
    "While initially scaling the data, I faced an error because there is one stock which has the metric 'Debt/Equity' equal to infinity (because equity is a value equal to zero or extremely small). This could happen because the value for liabilities is very close to the value of liabilities (or even equal), resulting in a high value (debt) being divided by an extremely small value (equity). \n",
    "\n",
    "Since this occurs in only one of the stocks, I will drop this row, which won't affect the result significantly."
   ]
  },
  {
   "cell_type": "code",
   "execution_count": 21,
   "metadata": {},
   "outputs": [],
   "source": [
    "to_drop = df[df['Debt/Equity'] == np.inf].index\n",
    "df.drop(to_drop, inplace=True)"
   ]
  },
  {
   "cell_type": "markdown",
   "metadata": {},
   "source": [
    "### Removing outliers\n",
    "When screening stocks to build a portfolio, outliers in the data can disrupt later modeling. For example, if most stocks have a price-to-earnings ratio around 100 but one stock has a ratio of 1000, the large gap between that stock and the others would skew the data. To enable proper modeling, I remove outliers like stocks with unusually high or low financial ratios relative to the rest of the dataset. This cleaning step creates a more representative dataset for analysis."
   ]
  },
  {
   "cell_type": "markdown",
   "metadata": {},
   "source": [
    "### Visual exploratory analysis"
   ]
  },
  {
   "cell_type": "code",
   "execution_count": 22,
   "metadata": {},
   "outputs": [
    {
     "data": {
      "image/png": "[encoded data removed]",
      "text/plain": [
       "<Figure size 1600x600 with 5 Axes>"
      ]
     },
     "metadata": {},
     "output_type": "display_data"
    }
   ],
   "source": [
    "# create a figure and ax\n",
    "fig, ax = plt.subplots(1, 5, figsize=(16,6))\n",
    "\n",
    "# earnings ratios\n",
    "e_ratios = [\n",
    "    'EBIT/EV', 'FCF/EV', 'Sales/EV', 'E/P', 'E/EV'\n",
    "]\n",
    "for n in range(len(e_ratios)):\n",
    "    ax[n].boxplot(df[e_ratios[n]], whis=(1,99)) # set the whiskers to top and lowest percentile\n",
    "    ax[n].set_xlabel(e_ratios[n])\n",
    "    ax[n].tick_params(\n",
    "        axis='x',          # changes apply to the x-axis\n",
    "        which='both',      # both major and minor ticks are affected\n",
    "        bottom=False,      # ticks along the bottom edge are off\n",
    "        top=False,         # ticks along the top edge are off\n",
    "        labelbottom=False)\n",
    "\n",
    "fig.suptitle('Boxplots for earnings ratios')\n",
    "\n",
    "plt.show()"
   ]
  },
  {
   "cell_type": "code",
   "execution_count": 51,
   "metadata": {},
   "outputs": [
    {
     "data": {
      "image/png": "[encoded data removed]",
      "text/plain": [
       "<Figure size 1300x600 with 4 Axes>"
      ]
     },
     "metadata": {},
     "output_type": "display_data"
    }
   ],
   "source": [
    "# debt to equity and yields ratios\n",
    "yields_ratios = [\n",
    "    'Debt/Equity', 'Buyback Yield (%)', \n",
    "    'Shareholder Yield (%)', 'Dividend Yield (%)'\n",
    "]\n",
    "\n",
    "# create a figure and ax\n",
    "fig, ax = plt.subplots(1, 4, figsize=(13,6))\n",
    "\n",
    "# create all the boxplots\n",
    "for n in range(len(yields_ratios)):\n",
    "    ax[n].boxplot(df[yields_ratios[n]], whis=(1,99)) # set the whiskers to top and lowest percentile\n",
    "    ax[n].set_xlabel(yields_ratios[n])\n",
    "    ax[n].tick_params(\n",
    "        axis='x',          # changes apply to the x-axis\n",
    "        which='both',      # both major and minor ticks are affected\n",
    "        bottom=False,      # ticks along the bottom edge are off\n",
    "        top=False,         # ticks along the top edge are off\n",
    "        labelbottom=False)\n",
    "\n",
    "# title for all plots\n",
    "fig.suptitle('Boxplots for yields ratios')\n",
    "\n",
    "plt.show()"
   ]
  },
  {
   "cell_type": "markdown",
   "metadata": {},
   "source": [
    "### Observations\n",
    "Based on the above boxplots, it seems all these columns contains outliers, making the interquartile range (distance between the first and third quartile) quite small in most cases. There are some values that are still quite far from the lowest and highest percentile and I will remove these."
   ]
  },
  {
   "cell_type": "code",
   "execution_count": 24,
   "metadata": {},
   "outputs": [],
   "source": [
    "# join the two lists\n",
    "ratios = yields_ratios + e_ratios\n",
    "\n",
    "# lowest percentile for each ratio\n",
    "percentile_1 = {\n",
    "    ratio: df[ratio].quantile(0.01) for ratio in ratios\n",
    "}\n",
    "\n",
    "# highest percentile for each ratio\n",
    "percentile_99 = {\n",
    "    ratio: df[ratio].quantile(0.99) for ratio in ratios\n",
    "}\n",
    "\n",
    "# removing the outliers (below the lowest percentile and above the highest one)\n",
    "for ratio in ratios:\n",
    "    df.drop(df[df[ratio] < percentile_1[ratio]].index, inplace=True)\n",
    "    df.drop(df[df[ratio] > percentile_99[ratio]].index, inplace=True)\n",
    "\n",
    "# resetting index to the original integer index\n",
    "df.reset_index(inplace=True, drop=True)"
   ]
  },
  {
   "cell_type": "code",
   "execution_count": 25,
   "metadata": {},
   "outputs": [
    {
     "data": {
      "text/plain": [
       "(907, 16)"
      ]
     },
     "execution_count": 25,
     "metadata": {},
     "output_type": "execute_result"
    }
   ],
   "source": [
    "df.shape"
   ]
  },
  {
   "cell_type": "markdown",
   "metadata": {},
   "source": [
    "89 rows were removed, which is about 9% of the dataset. It's not insignificant, however, I believe this will result in better modelling later on."
   ]
  },
  {
   "cell_type": "markdown",
   "metadata": {},
   "source": [
    "With the outliers and infinity values removed, I am now ready to scale the remaining data."
   ]
  },
  {
   "cell_type": "code",
   "execution_count": 30,
   "metadata": {},
   "outputs": [],
   "source": [
    "# scaling\n",
    "from sklearn.preprocessing import StandardScaler\n",
    "\n",
    "features = df.drop(columns=['Ticker', 'overperformer']).columns\n",
    "target = 'overperformer'\n",
    "\n",
    "df_names = df[['Ticker', 'overperformer']]\n",
    "df_numeric = df[features]\n",
    "y = df[target]\n",
    " \n",
    "scaler = StandardScaler()\n",
    "X = pd.DataFrame(scaler.fit_transform(\n",
    "    df_numeric), index=df_numeric.index, columns=df_numeric.columns\n",
    ")"
   ]
  },
  {
   "cell_type": "markdown",
   "metadata": {},
   "source": [
    "### A note on Data leakage\n",
    "Scaling the data first and splitting it only after this step will obviously result in data leakage (since the testing data is scaled together with the training data). This is, however, the same result I would get if I first joined the test data with the training data and scaled after, and predicted on the testing data. \n",
    "\n",
    "The reason why I opted to do it this way instead of scaling training and testing data separately is that stocks don't exist in vaccum. For instance, while a stock in the testing data could have the best Price to Earnings ratio, it could still be only average when compared to the whole group of stocks.\n",
    "\n",
    "The other option, joining and scaling, would be something like this:\n",
    "```\n",
    "test_index = test.index\n",
    "df_to_scale = pd.concat([test, train])\n",
    "df_scaled = scaler.fit_transform(df_to_scale)\n",
    "test_scaled = df_scaled[test_index]\n",
    "```\n",
    "This would lead me to the same level of scaling as doing it beforehand, so it's not an actual data leakage.\n"
   ]
  },
  {
   "cell_type": "markdown",
   "metadata": {},
   "source": [
    "## Splitting test and train data"
   ]
  },
  {
   "cell_type": "code",
   "execution_count": 33,
   "metadata": {},
   "outputs": [],
   "source": [
    "# import train_test_split\n",
    "from sklearn.model_selection import train_test_split\n",
    "\n",
    "X_train, X_test, y_train, y_test = train_test_split(\n",
    "    X, y, test_size=0.2\n",
    ")"
   ]
  },
  {
   "cell_type": "markdown",
   "metadata": {},
   "source": [
    "## Selecting the best models using Grid Search"
   ]
  },
  {
   "cell_type": "code",
   "execution_count": 38,
   "metadata": {},
   "outputs": [
    {
     "name": "stdout",
     "output_type": "stream",
     "text": [
      "KNeighborsClassifier\n",
      "Best score: 0.7269216133942161\n",
      "Best parameters: {'algorithm': 'ball_tree', 'leaf_size': 1, 'n_neighbors': 21, 'p': 2, 'weights': 'uniform'}\n",
      "\n"
     ]
    }
   ],
   "source": [
    "# importing grid search and models\n",
    "from sklearn.model_selection import GridSearchCV\n",
    "from sklearn.linear_model import LogisticRegression\n",
    "from sklearn.neighbors import KNeighborsClassifier\n",
    "from sklearn.ensemble import RandomForestClassifier\n",
    "\n",
    "# select the best model based on grid search with cross validation\n",
    "def select_model(df, features):\n",
    "        # In a previous version of this notebook, I used a logistic regression # model as well as a random forests classifier. The one with the best # results was the KNeighborsClassifier. For that reason, I will use \n",
    "        # GridSearchCV to select the best parameters for this model.\n",
    "    models = [\n",
    "        {\n",
    "            \"name\": \"KNeighborsClassifier\",\n",
    "            \"estimator\": KNeighborsClassifier(),\n",
    "            \"hyperparameters\":\n",
    "                {\n",
    "                    \"n_neighbors\": range(15,35,1),\n",
    "                    \"weights\": [\"distance\", \"uniform\"],\n",
    "                    \"algorithm\": [\"ball_tree\", \"kd_tree\", \"brute\"],\n",
    "                    \"leaf_size\": range(1,20,1), \n",
    "                    \"p\": [1,2]\n",
    "                }\n",
    "        }\n",
    "    ]\n",
    "    for model in models:\n",
    "        print(model['name'])\n",
    "        clf = GridSearchCV(model['estimator'], model['hyperparameters'], cv=10)\n",
    "        clf.fit(X_train, y_train)\n",
    "        model['best_params'] = clf.best_params_\n",
    "        model['best_score'] = clf.best_score_\n",
    "        model['best_model'] = clf.best_estimator_\n",
    "        \n",
    "        print(f\"Best score: {model['best_score']}\")\n",
    "        print(f\"Best parameters: {model['best_params']}\\n\")\n",
    "        \n",
    "    return models\n",
    "    \n",
    "train = pd.DataFrame(X_train, columns=features)\n",
    "result = select_model(train, features)"
   ]
  },
  {
   "cell_type": "code",
   "execution_count": 48,
   "metadata": {},
   "outputs": [
    {
     "name": "stdout",
     "output_type": "stream",
     "text": [
      "Accuracy of KNeighborsClassifier: 0.7307692307692307\n"
     ]
    }
   ],
   "source": [
    "# calculate the accuracy of predictions per model\n",
    "from sklearn.metrics import accuracy_score\n",
    "\n",
    "predictions = result[0]['best_model'].predict(X_test)\n",
    "accuracy = accuracy_score(y_test, predictions)\n",
    "print(f\"Accuracy of {result[0]['name']}: {accuracy}\")"
   ]
  },
  {
   "cell_type": "markdown",
   "metadata": {},
   "source": [
    "## Observations\n",
    "Since the accuracy of the model in training data is 72.7% and the accuracy on the testing data is 73.1%, I can conclude the algorithm performed well, without overfitting."
   ]
  }
 ],
 "metadata": {
  "kernelspec": {
   "display_name": "Python 3 (ipykernel)",
   "language": "python",
   "name": "python3"
  },
  "language_info": {
   "codemirror_mode": {
    "name": "ipython",
    "version": 3
   },
   "file_extension": ".py",
   "mimetype": "text/x-python",
   "name": "python",
   "nbconvert_exporter": "python",
   "pygments_lexer": "ipython3",
   "version": "3.11.5"
  }
 },
 "nbformat": 4,
 "nbformat_minor": 4
}
